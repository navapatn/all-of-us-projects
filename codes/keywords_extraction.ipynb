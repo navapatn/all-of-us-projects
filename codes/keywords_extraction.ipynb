{
  "nbformat": 4,
  "nbformat_minor": 0,
  "metadata": {
    "colab": {
      "provenance": []
    },
    "kernelspec": {
      "name": "python3",
      "display_name": "Python 3"
    },
    "language_info": {
      "name": "python"
    }
  },
  "cells": [
    {
      "cell_type": "code",
      "execution_count": null,
      "metadata": {
        "id": "WltCZ1EmEB19"
      },
      "outputs": [],
      "source": [
        "import pandas as pd\n",
        "import openai\n",
        "\n",
        "\n",
        "openai.api_key = ''\n",
        "model = \"gpt-3.5-turbo-0125\" ## ChatGPT version\n",
        "\n",
        "file_paths = {\n",
        "    'asthma_pollution': 'final_data_asthma_pollution.csv'\n",
        "    'cardiovascular': 'final_data_cardiovascular.csv'\n",
        "    'dementias_alzheimers': 'final_data_dementias_alzheimers.csv'\n",
        "    'diabetes': 'final_data_diabetes.csv'\n",
        "    'mental_health': 'final_data_mental_health.csv'\n",
        "}\n",
        "results = []\n",
        "for category, file_path in file_paths.items():\n",
        "    df = pd.read_csv(file_path)\n",
        "    for index, row in df.iterrows():\n",
        "        main_goal_and_aims = row['main_goal_and_aims']\n",
        "        questions = row['Questions']\n",
        "        approaches = row['Approaches']\n",
        "        findings = row['Findings']\n",
        "\n",
        "        prompt = (\n",
        "          f\"Using the following details from a {category} research project, \"\n",
        "          f\"identify ten key phrases or terms related to the project and provide the corresponding UMLS codes. \"\n",
        "          f\"Format the output as 'Keyword (UMLS Code)'. For example, if a keyword is 'asthma', \"\n",
        "          f\"and its UMLS code is C0004096, format it as 'asthma (C0004096)'.\\n\\n\"\n",
        "          f\"Main goal and aims:\\n{row['main_goal_and_aims']}\\n\\n\"\n",
        "          f\"Questions:\\n{row['Questions']}\\n\\n\"\n",
        "          f\"Approaches:\\n{row['Approaches']}\\n\\n\"\n",
        "          f\"Findings:\\n{row['Findings']}\\n\"\n",
        "      )\n",
        "\n",
        "        messages = [{\"role\": \"system\", \"content\": \"Extract keywords from each project and advise keywords with UMLS vocabulary and provide UMLS code. Follow the format in the prompt strictly\"},\n",
        "                {\"role\": \"user\", \"content\": prompt }]\n",
        "\n",
        "        try:\n",
        "          response = openai.chat.completions.create(\n",
        "              model=\"gpt-3.5-turbo\",\n",
        "              messages=messages\n",
        "          )\n",
        "          extracted_info = response.choices[0].message.content\n",
        "          #print(response)\n",
        "          results.append(extracted_info)\n",
        "          #print(f\"Original: {row['Team']}\\nExtracted: {extracted_info}\\n\")\n",
        "          #print(f\"Extracted: {extracted_info}\\n\")\n",
        "        except openai.OpenAIError as e:  # Correct exception handling\n",
        "          print(f\"An error occurred: {e}\")\n",
        "          results.append(None)\n"
      ]
    },
    {
      "cell_type": "code",
      "source": [
        "import pandas as pd\n",
        "import re\n",
        "\n",
        "structured_keywords = []\n",
        "for item in results:\n",
        "    keywords_dict = {'Keywords': [], 'UMLS_Codes': []}\n",
        "    lines = item.split('\\n')\n",
        "    for line in lines:\n",
        "        match = re.search(r'^(?:\\d+\\.\\s*)?(?P<keyword>.+?) \\((?P<umls_code>C\\d+)\\)$', line.strip())\n",
        "        if match:\n",
        "            keyword_clean = match.group('keyword').strip(' -')\n",
        "            umls_code = match.group('umls_code')\n",
        "\n",
        "            keywords_dict['Keywords'].append(keyword_clean)\n",
        "            keywords_dict['UMLS_Codes'].append(umls_code)\n",
        "\n",
        "    if not keywords_dict['Keywords']:\n",
        "        print(f\"Problematic item with no keywords found: {item}\")\n",
        "        structured_keywords.append(keywords_dict)\n",
        "    else:\n",
        "        structured_keywords.append(keywords_dict)\n"
      ],
      "metadata": {
        "id": "J26gUm-MEzZG"
      },
      "execution_count": null,
      "outputs": []
    },
    {
      "cell_type": "code",
      "source": [
        "import pandas as pd\n",
        "\n",
        "# Check if the lengths match\n",
        "print(len(df))\n",
        "print(len(structured_keywords))\n",
        "if len(df) == len(structured_keywords):\n",
        "    # Add the Keywords and UMLS_Codes to the original DataFrame\n",
        "    df['Keywords'] = [kw['Keywords'] for kw in structured_keywords]\n",
        "    df['UMLS_Codes'] = [kw['UMLS_Codes'] for kw in structured_keywords]\n",
        "\n",
        "    # Save the updated DataFrame to a new CSV file\n",
        "    df.to_csv('updated_with_keywords.csv', index=False)\n",
        "else:\n",
        "    print(\"The length of the original DataFrame and structured keywords does not match.\")\n"
      ],
      "metadata": {
        "colab": {
          "base_uri": "https://localhost:8080/"
        },
        "id": "4CFMqDzoMLUn",
        "outputId": "6d41fdaa-50d5-4d2d-be60-c1523eecdcee"
      },
      "execution_count": null,
      "outputs": [
        {
          "output_type": "stream",
          "name": "stdout",
          "text": [
            "244\n",
            "244\n"
          ]
        }
      ]
    }
  ]
}